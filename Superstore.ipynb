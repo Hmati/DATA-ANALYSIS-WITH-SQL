{
 "cells": [
  {
   "cell_type": "markdown",
   "id": "d1ed0d22-3c94-4a05-860f-9701dacd620b",
   "metadata": {},
   "source": [
    "## Sales Data Mining Project\n",
    "\n",
    "Objective The primary aim of this data mining project is to conduct an in-depth analysis of sales data to derive valuable insights into sales performance, identify emerging trends, and develop data-driven business strategies for improved decision-making."
   ]
  },
  {
   "cell_type": "markdown",
   "id": "59dcae5d-92ed-45df-afe2-25a92f76c3f1",
   "metadata": {},
   "source": [
    "## About Dataset/Metadata\n",
    "\n",
    "With growing demands and cut-throat competitions in the market, a Superstore Giant is seeking your knowledge in understanding what works best for them. They would like to understand which products, regions, categories and customer segments they should target or avoid.\n",
    "You can even take this a step further and try and build a Regression model to predict Sales or Profit.Go crazy with the dataset, but also make sure to provide some business insights to improve.\n",
    "\n",
    "Row ID => Unique ID for each row.\n",
    "\n",
    "Order ID => Unique Order ID for each Customer.\n",
    "\n",
    "Order Date => Order Date of the product.\n",
    "\n",
    "Ship Date => Shipping Date of the Product.\n",
    "\n",
    "Ship Mode=> Shipping Mode specified by the Customer.\n",
    "\n",
    "Customer ID => Unique ID to identify each Customer.\n",
    "\n",
    "Customer Name => Name of the Customer.\n",
    "\n",
    "Segment => The segment where the Customer belongs.\n",
    "\n",
    "Country => Country of residence of the Customer.\n",
    "\n",
    "City => City of residence of of the Customer.\n",
    "\n",
    "State => State of residence of the Customer.\n",
    "\n",
    "Postal Code => Postal Code of every Customer.\n",
    "\n",
    "Region => Region where the Customer belong.\n",
    "\n",
    "Product ID => Unique ID of the Product.\n",
    "\n",
    "Category => Category of the product ordered.\n",
    "\n",
    "Sub-Category => Sub-Category of the product ordered.\n",
    "\n",
    "Product Name => Name of the Product\n",
    "\n",
    "Sales => Sales of the Product.\n",
    "\n",
    "Quantity => Quantity of the Product.\n",
    "\n",
    "Discount => Discount provided.\n",
    "\n",
    "Profit => Profit/Loss incurred."
   ]
  },
  {
   "cell_type": "code",
   "execution_count": 177,
   "id": "69289424-3298-4f4d-b35e-b8fd108752c4",
   "metadata": {},
   "outputs": [],
   "source": [
    "## Importing Libraries\n",
    "\n",
    "# 1. Pandas for data manipulation and loading CSV files\n",
    "import pandas as pd\n",
    "\n",
    "# 2. SQLite for in-memory SQL database (you can also use MySQL, PostgreSQL, etc., but SQLite is easiest for local analysis)\n",
    "import sqlite3\n",
    "\n",
    "# 3. SQLAlchemy to help with database connections and writing SQL queries\n",
    "from sqlalchemy import create_engine\n",
    "\n",
    "# 4. If needed, load additional libraries for data visualization and analysis\n",
    "import matplotlib.pyplot as plt\n",
    "import seaborn as sns\n"
   ]
  },
  {
   "cell_type": "code",
   "execution_count": 178,
   "id": "c62c5dcc-725c-4da4-b4ed-96a1481f4dae",
   "metadata": {},
   "outputs": [],
   "source": [
    "# Load CSV into a DataFrame\n",
    "\n",
    "# Try reading the CSV file with a different encoding\n",
    "df = pd.read_csv(\"Sample - Superstore.csv\", encoding='ISO-8859-1') \n",
    "\n"
   ]
  },
  {
   "cell_type": "code",
   "execution_count": 179,
   "id": "7ccdc1e2-b6f4-4660-a6a0-f076ea937f04",
   "metadata": {},
   "outputs": [
    {
     "name": "stdout",
     "output_type": "stream",
     "text": [
      "Index(['Row ID', 'Order ID', 'Order Date', 'Ship Date', 'Ship Mode',\n",
      "       'Customer ID', 'Customer Name', 'Segment', 'Country', 'City', 'State',\n",
      "       'Postal Code', 'Region', 'Product ID', 'Category', 'Sub-Category',\n",
      "       'Product Name', 'Sales', 'Quantity', 'Discount', 'Profit'],\n",
      "      dtype='object')\n"
     ]
    }
   ],
   "source": [
    "print(df.columns)"
   ]
  },
  {
   "cell_type": "code",
   "execution_count": 180,
   "id": "0cf7abd1-459e-441b-a6f6-0fbab70e01a5",
   "metadata": {},
   "outputs": [
    {
     "data": {
      "text/plain": [
       "9994"
      ]
     },
     "execution_count": 180,
     "metadata": {},
     "output_type": "execute_result"
    }
   ],
   "source": [
    "## Set up an In-Memory SQLite Database and Load Data:\n",
    "\n",
    "# Create an in-memory SQLite database\n",
    "conn = sqlite3.connect(':memory:')\n",
    "# Write DataFrame to SQLite database\n",
    "df.to_sql('Superstore', conn, index=False, if_exists='replace')"
   ]
  },
  {
   "cell_type": "code",
   "execution_count": 181,
   "id": "09202b15-128a-4dad-9a8e-9d4d4c7348dd",
   "metadata": {},
   "outputs": [
    {
     "name": "stdout",
     "output_type": "stream",
     "text": [
      "<class 'pandas.core.frame.DataFrame'>\n",
      "RangeIndex: 9994 entries, 0 to 9993\n",
      "Data columns (total 21 columns):\n",
      " #   Column         Non-Null Count  Dtype  \n",
      "---  ------         --------------  -----  \n",
      " 0   Row ID         9994 non-null   int64  \n",
      " 1   Order ID       9994 non-null   object \n",
      " 2   Order Date     9994 non-null   object \n",
      " 3   Ship Date      9994 non-null   object \n",
      " 4   Ship Mode      9994 non-null   object \n",
      " 5   Customer ID    9994 non-null   object \n",
      " 6   Customer Name  9994 non-null   object \n",
      " 7   Segment        9994 non-null   object \n",
      " 8   Country        9994 non-null   object \n",
      " 9   City           9994 non-null   object \n",
      " 10  State          9994 non-null   object \n",
      " 11  Postal Code    9994 non-null   int64  \n",
      " 12  Region         9994 non-null   object \n",
      " 13  Product ID     9994 non-null   object \n",
      " 14  Category       9994 non-null   object \n",
      " 15  Sub-Category   9994 non-null   object \n",
      " 16  Product Name   9994 non-null   object \n",
      " 17  Sales          9994 non-null   float64\n",
      " 18  Quantity       9994 non-null   int64  \n",
      " 19  Discount       9994 non-null   float64\n",
      " 20  Profit         9994 non-null   float64\n",
      "dtypes: float64(3), int64(3), object(15)\n",
      "memory usage: 1.6+ MB\n",
      "None\n",
      "            Row ID   Postal Code         Sales     Quantity     Discount  \\\n",
      "count  9994.000000   9994.000000   9994.000000  9994.000000  9994.000000   \n",
      "mean   4997.500000  55190.379428    229.858001     3.789574     0.156203   \n",
      "std    2885.163629  32063.693350    623.245101     2.225110     0.206452   \n",
      "min       1.000000   1040.000000      0.444000     1.000000     0.000000   \n",
      "25%    2499.250000  23223.000000     17.280000     2.000000     0.000000   \n",
      "50%    4997.500000  56430.500000     54.490000     3.000000     0.200000   \n",
      "75%    7495.750000  90008.000000    209.940000     5.000000     0.200000   \n",
      "max    9994.000000  99301.000000  22638.480000    14.000000     0.800000   \n",
      "\n",
      "            Profit  \n",
      "count  9994.000000  \n",
      "mean     28.656896  \n",
      "std     234.260108  \n",
      "min   -6599.978000  \n",
      "25%       1.728750  \n",
      "50%       8.666500  \n",
      "75%      29.364000  \n",
      "max    8399.976000  \n"
     ]
    }
   ],
   "source": [
    "# Check for missing values\n",
    "df.dropna(inplace=True)\n",
    "\n",
    "# Remove duplicates\n",
    "df.drop_duplicates(inplace=True)\n",
    "\n",
    "print(df.info())\n",
    "print(df.describe())"
   ]
  },
  {
   "cell_type": "code",
   "execution_count": 182,
   "id": "17caf80e-8dc8-4509-9f8f-3848f0386f04",
   "metadata": {},
   "outputs": [
    {
     "name": "stdout",
     "output_type": "stream",
     "text": [
      "Columns renamed successfully.\n"
     ]
    }
   ],
   "source": [
    "#import sqlite3\n",
    "\n",
    "# Connect to your database\n",
    "#conn = sqlite3.connect('Superstore.db')\n",
    "\n",
    "# Create a cursor object\n",
    "cursor = conn.cursor()\n",
    "\n",
    "# Rename multiple columns\n",
    "try:\n",
    "    # Rename \"Row ID\" to \"Row_ID\"\n",
    "    cursor.execute(\"\"\"\n",
    "    ALTER TABLE \"Superstore\" \n",
    "    RENAME COLUMN \"Row ID\" TO Row_ID;\n",
    "    \"\"\")\n",
    "    \n",
    "    # Rename \"Order ID\" to \"Order_ID\"\n",
    "    cursor.execute(\"\"\"\n",
    "    ALTER TABLE \"Superstore\" \n",
    "    RENAME COLUMN \"Order ID\" TO Order_ID;\n",
    "    \"\"\")\n",
    "    \n",
    "    # Rename \"Order Date\" to \"Order_Date\"\n",
    "    cursor.execute(\"\"\"\n",
    "    ALTER TABLE \"Superstore\"\n",
    "    RENAME COLUMN \"Order Date\" TO Order_Date;\n",
    "    \"\"\")\n",
    "    \n",
    "    # Rename \"Ship Date\" to \"Ship_Date\"\n",
    "    cursor.execute(\"\"\"\n",
    "    ALTER TABLE \"Superstore\" \n",
    "    RENAME COLUMN \"Ship Date\" TO Ship_Date;\n",
    "    \"\"\")\n",
    "    \n",
    "    # Rename \"Ship Mode\" to \"Ship_Mode\"\n",
    "    cursor.execute(\"\"\"\n",
    "    ALTER TABLE \"Superstore\" \n",
    "    RENAME COLUMN \"Ship Mode\" TO Ship_Mode;\n",
    "    \"\"\")\n",
    "    \n",
    "    # Rename \"Customer ID\" to \"Customer_ID\"\n",
    "    cursor.execute(\"\"\"\n",
    "    ALTER TABLE \"Superstore\" \n",
    "    RENAME COLUMN \"Customer ID\" TO Customer_ID;\n",
    "    \"\"\")\n",
    "    \n",
    "    # Rename \"Postal Code\" to \"Postal_Code\"\n",
    "    cursor.execute(\"\"\"\n",
    "    ALTER TABLE \"Superstore\" \n",
    "    RENAME COLUMN \"Postal Code\" TO Postal_Code;\n",
    "    \"\"\")\n",
    "    \n",
    "    # Rename \"Product ID\" to \"Product_ID\"\n",
    "    cursor.execute(\"\"\"\n",
    "    ALTER TABLE \"Superstore\" \n",
    "    RENAME COLUMN \"Product ID\" TO Product_ID;\n",
    "    \"\"\")\n",
    "    \n",
    "    # Rename \"Product Name\" to \"Product_Name\"\n",
    "    cursor.execute(\"\"\"\n",
    "    ALTER TABLE \"Superstore\" \n",
    "    RENAME COLUMN \"Product Name\" TO Product_Name;\n",
    "    \"\"\")\n",
    "\n",
    "    print(\"Columns renamed successfully.\")\n",
    "except sqlite3.Error as e:\n",
    "    print(f\"An error occurred: {e}\")\n",
    "    \n",
    "\n",
    "# Commit the changes \n",
    "conn.commit()\n"
   ]
  },
  {
   "cell_type": "code",
   "execution_count": 183,
   "id": "cd2a37f3-7b92-49e6-bc49-68463015fc5b",
   "metadata": {},
   "outputs": [
    {
     "name": "stdout",
     "output_type": "stream",
     "text": [
      "   Row_ID        Order_ID  Order_Date   Ship_Date       Ship_Mode Customer_ID  \\\n",
      "0       1  CA-2016-152156   11/8/2016  11/11/2016    Second Class    CG-12520   \n",
      "1       2  CA-2016-152156   11/8/2016  11/11/2016    Second Class    CG-12520   \n",
      "2       3  CA-2016-138688   6/12/2016   6/16/2016    Second Class    DV-13045   \n",
      "3       4  US-2015-108966  10/11/2015  10/18/2015  Standard Class    SO-20335   \n",
      "4       5  US-2015-108966  10/11/2015  10/18/2015  Standard Class    SO-20335   \n",
      "\n",
      "     Segment        Country             City       State  Postal_Code Region  \\\n",
      "0   Consumer  United States        Henderson    Kentucky        42420  South   \n",
      "1   Consumer  United States        Henderson    Kentucky        42420  South   \n",
      "2  Corporate  United States      Los Angeles  California        90036   West   \n",
      "3   Consumer  United States  Fort Lauderdale     Florida        33311  South   \n",
      "4   Consumer  United States  Fort Lauderdale     Florida        33311  South   \n",
      "\n",
      "        Product_ID         Category Sub_Category  \\\n",
      "0  FUR-BO-10001798        Furniture    Bookcases   \n",
      "1  FUR-CH-10000454        Furniture       Chairs   \n",
      "2  OFF-LA-10000240  Office Supplies       Labels   \n",
      "3  FUR-TA-10000577        Furniture       Tables   \n",
      "4  OFF-ST-10000760  Office Supplies      Storage   \n",
      "\n",
      "                                        Product_Name     Sales  Quantity  \\\n",
      "0                  Bush Somerset Collection Bookcase  261.9600         2   \n",
      "1  Hon Deluxe Fabric Upholstered Stacking Chairs,...  731.9400         3   \n",
      "2  Self-Adhesive Address Labels for Typewriters b...   14.6200         2   \n",
      "3      Bretford CR4500 Series Slim Rectangular Table  957.5775         5   \n",
      "4                     Eldon Fold 'N Roll Cart System   22.3680         2   \n",
      "\n",
      "   Discount    Profit  \n",
      "0      0.00   41.9136  \n",
      "1      0.00  219.5820  \n",
      "2      0.00    6.8714  \n",
      "3      0.45 -383.0310  \n",
      "4      0.20    2.5164  \n"
     ]
    }
   ],
   "source": [
    "# Query to fetch all data with updated column names\n",
    "query = \"\"\"\n",
    "SELECT \n",
    "    Row_ID,\n",
    "    Order_ID,\n",
    "    Order_Date,\n",
    "    Ship_Date,\n",
    "    Ship_Mode,\n",
    "    Customer_ID,\n",
    "    Segment,\n",
    "    Country,\n",
    "    City,\n",
    "    State,\n",
    "    Postal_Code,\n",
    "    Region,\n",
    "    Product_ID,\n",
    "    Category,\n",
    "    \"Sub-Category\" AS Sub_Category,\n",
    "    Product_Name,\n",
    "    Sales,\n",
    "    Quantity,\n",
    "    Discount,\n",
    "    Profit\n",
    "FROM \n",
    "    Superstore;\n",
    "\"\"\"\n",
    "\n",
    "# Execute query and load results into a DataFrame\n",
    "Newdf = pd.read_sql_query(query, conn)\n",
    "\n",
    "# Display the DataFrame\n",
    "print(Newdf.head())\n"
   ]
  },
  {
   "cell_type": "markdown",
   "id": "56e743dc-02a9-4904-bf62-b3d9a4bd5e3d",
   "metadata": {},
   "source": [
    "# ANALYSIS IN DEPTH "
   ]
  },
  {
   "cell_type": "markdown",
   "id": "385daf4c-61df-422b-ada0-9e08dc1ae7bb",
   "metadata": {},
   "source": [
    "# 1. **Sales Performance Analysis**\n",
    "   - **Objective**: Identify high-performing products, categories, and regions.\n",
    "   - **Key Metrics**: Total sales, profit margins, sales by region and category, and revenue growth.\n",
    "   - **Insights**: Determine the top-selling products and categories and which regions contribute the most to overall sales. This helps in resource allocation, inventory planning, and demand forecasting.\n",
    "\n"
   ]
  },
  {
   "cell_type": "markdown",
   "id": "9aa72477-f39b-487e-b833-a4b6f5161b59",
   "metadata": {},
   "source": [
    "### a. Total Sales and Profit by Category:"
   ]
  },
  {
   "cell_type": "code",
   "execution_count": 187,
   "id": "670e2ba5-4fb2-4661-ba6d-18aec10b191c",
   "metadata": {},
   "outputs": [
    {
     "name": "stdout",
     "output_type": "stream",
     "text": [
      "          Category  Total_Sales  Total_Profit\n",
      "0        Furniture  741999.7953    18451.2728\n",
      "1  Office Supplies  719047.0320   122490.8008\n",
      "2       Technology  836154.0330   145454.9481\n"
     ]
    }
   ],
   "source": [
    "\n",
    "\n",
    "# Execute your query\n",
    "\n",
    "query = \"\"\"\n",
    "SELECT Category, SUM(Sales) AS Total_Sales, SUM(Profit) AS Total_Profit\n",
    "FROM Superstore\n",
    "GROUP BY Category;\n",
    "\"\"\"\n",
    "Newdf1 = pd.read_sql_query(query, conn)\n",
    "\n",
    "print(df1)\n"
   ]
  },
  {
   "cell_type": "markdown",
   "id": "9908189b-a4ec-4d54-8fe1-947232d0c35b",
   "metadata": {},
   "source": [
    "### b.Total Sales and Profit by Region:\n"
   ]
  },
  {
   "cell_type": "code",
   "execution_count": 189,
   "id": "5960c565-0275-4c3e-b1b8-a5a6dca457fc",
   "metadata": {},
   "outputs": [
    {
     "name": "stdout",
     "output_type": "stream",
     "text": [
      "    Region  Total_Sales  Total_Profit\n",
      "0     West  725457.8245   108418.4489\n",
      "1     East  678781.2400    91522.7800\n",
      "2  Central  501239.8908    39706.3625\n",
      "3    South  391721.9050    46749.4303\n"
     ]
    }
   ],
   "source": [
    "\n",
    "query = \"\"\"SELECT Region, SUM(Sales) AS Total_Sales, SUM(Profit) AS Total_Profit\n",
    "FROM superstore\n",
    "GROUP BY Region\n",
    "ORDER BY Total_Sales DESC;\n",
    "\"\"\"\n",
    "Newdf2 = pd.read_sql_query(query,conn)\n",
    "\n",
    "print(Newdf2)"
   ]
  },
  {
   "cell_type": "markdown",
   "id": "b31a75e3-c903-49d4-ad9d-163c1a58cb34",
   "metadata": {},
   "source": [
    "### c. Top Selling Products:\n"
   ]
  },
  {
   "cell_type": "code",
   "execution_count": 191,
   "id": "78c3a3f1-d448-4484-accd-7ec3788fd7b6",
   "metadata": {},
   "outputs": [
    {
     "name": "stdout",
     "output_type": "stream",
     "text": [
      "                                        Product_Name  Total_Sales  \\\n",
      "0              Canon imageCLASS 2200 Advanced Copier    61599.824   \n",
      "1  Fellowes PB500 Electric Punch Plastic Comb Bin...    27453.384   \n",
      "2  Cisco TelePresence System EX90 Videoconferenci...    22638.480   \n",
      "3       HON 5400 Series Task Chairs for Big and Tall    21870.576   \n",
      "4         GBC DocuBind TL300 Electric Binding System    19823.479   \n",
      "5   GBC Ibimaster 500 Manual ProClick Binding System    19024.500   \n",
      "6               Hewlett Packard LaserJet 3310 Copier    18839.686   \n",
      "7  HP Designjet T520 Inkjet Large Format Printer ...    18374.895   \n",
      "8          GBC DocuBind P400 Electric Binding System    17965.068   \n",
      "9        High Speed Automatic Electric Letter Opener    17030.312   \n",
      "\n",
      "   Total_Profit  \n",
      "0  2.519993e+04  \n",
      "1  7.753039e+03  \n",
      "2 -1.811078e+03  \n",
      "3  8.526513e-14  \n",
      "4  2.233505e+03  \n",
      "5  7.609800e+02  \n",
      "6  6.983884e+03  \n",
      "7  4.094977e+03  \n",
      "8 -1.878166e+03  \n",
      "9 -2.620048e+02  \n"
     ]
    }
   ],
   "source": [
    "\n",
    "query = \"\"\"\n",
    "SELECT \n",
    "    Product_Name, \n",
    "    SUM(Sales) AS Total_Sales, \n",
    "    SUM(Profit) AS Total_Profit\n",
    "FROM \n",
    "    Superstore\n",
    "GROUP BY \n",
    "    Product_Name\n",
    "ORDER BY \n",
    "    Total_Sales DESC\n",
    "LIMIT 10;\n",
    "\"\"\"\n",
    "\n",
    "# Execute query and load results into a DataFrame\n",
    "Newdf3 = pd.read_sql_query(query, conn)\n",
    "\n",
    "# Display the results\n",
    "print(Newdf3)"
   ]
  },
  {
   "cell_type": "code",
   "execution_count": 192,
   "id": "8fb03106-9aef-42da-80a7-f6ebf02cff4d",
   "metadata": {},
   "outputs": [
    {
     "name": "stdout",
     "output_type": "stream",
     "text": [
      "Index(['Row_ID', 'Order_ID', 'Order_Date', 'Ship_Date', 'Ship_Mode',\n",
      "       'Customer_ID', 'Segment', 'Country', 'City', 'State', 'Postal_Code',\n",
      "       'Region', 'Product_ID', 'Category', 'Sub_Category', 'Product_Name',\n",
      "       'Sales', 'Quantity', 'Discount', 'Profit'],\n",
      "      dtype='object')\n"
     ]
    }
   ],
   "source": [
    "print(Newdf.columns)"
   ]
  },
  {
   "cell_type": "markdown",
   "id": "f8d5ea2e-e4a2-47db-9ac2-cf16fdb3671e",
   "metadata": {},
   "source": [
    "## d. Revenue Growth Calculation (assuming we have a way to define previous periods):\n",
    "\n"
   ]
  },
  {
   "cell_type": "code",
   "execution_count": 194,
   "id": "6bd74773-2dfb-4d43-8dd3-545a3939ce4e",
   "metadata": {},
   "outputs": [
    {
     "name": "stdout",
     "output_type": "stream",
     "text": [
      "Index(['Row_ID', 'Order_ID', 'Order_Date', 'Ship_Date', 'Ship_Mode',\n",
      "       'Customer_ID', 'Segment', 'Country', 'City', 'State', 'Postal_Code',\n",
      "       'Region', 'Product_ID', 'Category', 'Sub_Category', 'Product_Name',\n",
      "       'Sales', 'Quantity', 'Discount', 'Profit'],\n",
      "      dtype='object')\n"
     ]
    }
   ],
   "source": [
    "print(Newdf.columns)\n",
    "\n",
    "# Rename columns if necessary\n",
    "Newdf.columns = Newdf.columns.str.strip()  # Removes any leading/trailing whitespace\n",
    "\n",
    "# Confirm if 'Order Date' is the correct column name\n",
    "if 'Order Date' in df.columns:\n",
    "    # Convert 'Order Date' to datetime and reformat to 'YYYY-MM-DD'\n",
    "    df['Order_Date'] = pd.to_datetime(df['Order Date'], format='%m/%d/%Y').dt.strftime('%Y-%m-%d')\n",
    "else:\n",
    "    print(\"The column 'Order Date' was not found. Here are the columns:\", df.columns)"
   ]
  },
  {
   "cell_type": "code",
   "execution_count": 195,
   "id": "6aa45814-d159-41f6-98ae-e67b3afb57e4",
   "metadata": {
    "scrolled": true
   },
   "outputs": [
    {
     "name": "stdout",
     "output_type": "stream",
     "text": [
      "    Year Month  Total_Sales\n",
      "0   2014    01   14236.8950\n",
      "1   2014    02    4519.8920\n",
      "2   2014    03   55691.0090\n",
      "3   2014    04   28295.3450\n",
      "4   2014    05   23648.2870\n",
      "5   2014    06   34595.1276\n",
      "6   2014    07   33946.3930\n",
      "7   2014    08   27909.4685\n",
      "8   2014    09   81777.3508\n",
      "9   2014    10   31453.3930\n",
      "10  2014    11   78628.7167\n",
      "11  2014    12   69545.6205\n",
      "12  2015    01   18174.0756\n",
      "13  2015    02   11951.4110\n",
      "14  2015    03   38726.2520\n",
      "15  2015    04   34195.2085\n",
      "16  2015    05   30131.6865\n",
      "17  2015    06   24797.2920\n",
      "18  2015    07   28765.3250\n",
      "19  2015    08   36898.3322\n",
      "20  2015    09   64595.9180\n",
      "21  2015    10   31404.9235\n",
      "22  2015    11   75972.5635\n",
      "23  2015    12   74919.5212\n",
      "24  2016    01   18542.4910\n",
      "25  2016    02   22978.8150\n",
      "26  2016    03   51715.8750\n",
      "27  2016    04   38750.0390\n",
      "28  2016    05   56987.7280\n",
      "29  2016    06   40344.5340\n",
      "30  2016    07   39261.9630\n",
      "31  2016    08   31115.3743\n",
      "32  2016    09   73410.0249\n",
      "33  2016    10   59687.7450\n",
      "34  2016    11   79411.9658\n",
      "35  2016    12   96999.0430\n",
      "36  2017    01   43971.3740\n",
      "37  2017    02   20301.1334\n",
      "38  2017    03   58872.3528\n",
      "39  2017    04   36521.5361\n",
      "40  2017    05   44261.1102\n",
      "41  2017    06   52981.7257\n",
      "42  2017    07   45264.4160\n",
      "43  2017    08   63120.8880\n",
      "44  2017    09   87866.6520\n",
      "45  2017    10   77776.9232\n",
      "46  2017    11  118447.8250\n",
      "47  2017    12   83829.3188\n"
     ]
    }
   ],
   "source": [
    "# Convert 'Order Date' to datetime and reformat to 'YYYY-MM-DD'\n",
    "Newdf['Order_Date'] = pd.to_datetime(Newdf['Order_Date'], format='%m/%d/%Y').dt.strftime('%Y-%m-%d')\n",
    "\n",
    "# Connect to SQLite database\n",
    "#conn = sqlite3.connect('your_database.db')\n",
    "\n",
    "# Load data into SQLite, replacing the existing Superstore table if it exists\n",
    "Newdf.to_sql('Superstore', conn, if_exists='replace', index=False)\n",
    "\n",
    "# Define query to calculate total sales for each month and year\n",
    "query = \"\"\"\n",
    "SELECT strftime('%Y', Order_Date) AS Year, \n",
    "       strftime('%m', Order_Date) AS Month, \n",
    "       SUM(Sales) AS Total_Sales\n",
    "FROM Superstore\n",
    "GROUP BY Year, Month\n",
    "ORDER BY Year, Month;\n",
    "\"\"\"\n",
    "\n",
    "# Execute query and load results into a DataFrame\n",
    "result_df = pd.read_sql_query(query, conn)\n",
    "\n",
    "# Display the results\n",
    "print(result_df)\n"
   ]
  },
  {
   "cell_type": "code",
   "execution_count": 196,
   "id": "1906aac3-364c-42ab-979a-cf702ec350c7",
   "metadata": {},
   "outputs": [
    {
     "name": "stdout",
     "output_type": "stream",
     "text": [
      "   Year  Total_Sales\n",
      "0  2017  733215.2552\n",
      "1  2016  609205.5980\n",
      "2  2014  484247.4981\n",
      "3  2015  470532.5090\n"
     ]
    }
   ],
   "source": [
    "query = \"\"\"\n",
    "SELECT strftime('%Y', Order_Date) AS Year, \n",
    "       SUM(Sales) AS Total_Sales\n",
    "FROM Superstore\n",
    "GROUP BY Year\n",
    "ORDER BY Total_Sales DESC;\n",
    "\"\"\"\n",
    "\n",
    "# Execute query and load results into a DataFrame\n",
    "result_df1 = pd.read_sql_query(query, conn)\n",
    "\n",
    "# Display the results\n",
    "print(result_df1)"
   ]
  },
  {
   "cell_type": "code",
   "execution_count": 197,
   "id": "910aa99c-99f4-4e09-838a-db5cc6afd812",
   "metadata": {},
   "outputs": [
    {
     "name": "stdout",
     "output_type": "stream",
     "text": [
      "    Year Month  Total_Sales\n",
      "0   2014    09   81777.3508\n",
      "1   2014    11   78628.7167\n",
      "2   2014    12   69545.6205\n",
      "3   2014    03   55691.0090\n",
      "4   2014    06   34595.1276\n",
      "5   2014    07   33946.3930\n",
      "6   2014    10   31453.3930\n",
      "7   2014    04   28295.3450\n",
      "8   2014    08   27909.4685\n",
      "9   2014    05   23648.2870\n",
      "10  2014    01   14236.8950\n",
      "11  2014    02    4519.8920\n",
      "12  2015    11   75972.5635\n",
      "13  2015    12   74919.5212\n",
      "14  2015    09   64595.9180\n",
      "15  2015    03   38726.2520\n",
      "16  2015    08   36898.3322\n",
      "17  2015    04   34195.2085\n",
      "18  2015    10   31404.9235\n",
      "19  2015    05   30131.6865\n",
      "20  2015    07   28765.3250\n",
      "21  2015    06   24797.2920\n",
      "22  2015    01   18174.0756\n",
      "23  2015    02   11951.4110\n",
      "24  2016    12   96999.0430\n",
      "25  2016    11   79411.9658\n",
      "26  2016    09   73410.0249\n",
      "27  2016    10   59687.7450\n",
      "28  2016    05   56987.7280\n",
      "29  2016    03   51715.8750\n",
      "30  2016    06   40344.5340\n",
      "31  2016    07   39261.9630\n",
      "32  2016    04   38750.0390\n",
      "33  2016    08   31115.3743\n",
      "34  2016    02   22978.8150\n",
      "35  2016    01   18542.4910\n",
      "36  2017    11  118447.8250\n",
      "37  2017    09   87866.6520\n",
      "38  2017    12   83829.3188\n",
      "39  2017    10   77776.9232\n",
      "40  2017    08   63120.8880\n",
      "41  2017    03   58872.3528\n",
      "42  2017    06   52981.7257\n",
      "43  2017    07   45264.4160\n",
      "44  2017    05   44261.1102\n",
      "45  2017    01   43971.3740\n",
      "46  2017    04   36521.5361\n",
      "47  2017    02   20301.1334\n"
     ]
    }
   ],
   "source": [
    "query = \"\"\"\n",
    "SELECT strftime('%Y', Order_Date) AS Year, \n",
    "       strftime('%m', Order_Date) AS Month, \n",
    "       SUM(Sales) AS Total_Sales\n",
    "FROM Superstore\n",
    "GROUP BY Year, Month\n",
    "ORDER BY Year, Total_Sales DESC;\n",
    "\"\"\"\n",
    "\n",
    "# Execute query and load results into a DataFrame\n",
    "result_df2 = pd.read_sql_query(query, conn)\n",
    "\n",
    "# Display the results\n",
    "print(result_df2)\n"
   ]
  },
  {
   "cell_type": "markdown",
   "id": "b198444e-df95-465b-a662-a3104fc2345d",
   "metadata": {},
   "source": [
    "### 2. **Customer Segmentation**\n",
    "   - **Objective**: Segment customers based on purchasing behavior and demographics.\n",
    "   - **Key Metrics**: Total purchase value, frequency of purchases, and preferred product categories.\n",
    "   - **Insights**: Develop targeted marketing strategies by understanding different customer groups (e.g., high-value customers, frequent buyers, discount-sensitive customers)."
   ]
  },
  {
   "cell_type": "code",
   "execution_count": 199,
   "id": "0e6383a9-b8d4-41cc-b8b4-e3ef984d74ee",
   "metadata": {},
   "outputs": [
    {
     "name": "stdout",
     "output_type": "stream",
     "text": [
      "    Customer_ID  Total_Purchase_Value  Purchase_Frequency Preferred_Category\n",
      "0      AA-10315              5563.560                   1    Office Supplies\n",
      "1      AA-10375              1056.390                   1         Technology\n",
      "2      AA-10480              1790.512                   1         Technology\n",
      "3      AA-10645              5086.935                   1          Furniture\n",
      "4      AB-10015               886.156                   1          Furniture\n",
      "..          ...                   ...                 ...                ...\n",
      "788    XP-21865              2374.658                   1    Office Supplies\n",
      "789    YC-21895              5454.350                   1    Office Supplies\n",
      "790    YS-21880              6720.444                   1    Office Supplies\n",
      "791    ZC-21910              8025.707                   1          Furniture\n",
      "792    ZD-21925              1493.944                   1         Technology\n",
      "\n",
      "[793 rows x 4 columns]\n"
     ]
    }
   ],
   "source": [
    "query = \"\"\"\n",
    "SELECT \n",
    "    Customer_ID, \n",
    "    SUM(Sales) AS Total_Purchase_Value,\n",
    "    COUNT(DISTINCT \"Order ID\") AS Purchase_Frequency,\n",
    "    (SELECT Category\n",
    "     FROM Superstore AS S2\n",
    "     WHERE S2.\"Customer_ID\" = S1.\"Customer_ID\"\n",
    "     GROUP BY Category\n",
    "     ORDER BY SUM(Sales) DESC\n",
    "     LIMIT 1) AS Preferred_Category\n",
    "FROM \n",
    "    Superstore AS S1\n",
    "GROUP BY \n",
    "    Customer_ID;\n",
    "\"\"\"\n",
    "\n",
    "# Execute query and load results into a DataFrame\n",
    "Segmentation = pd.read_sql_query(query, conn)\n",
    "\n",
    "# Display the results\n",
    "print(Segmentation)\n"
   ]
  },
  {
   "cell_type": "markdown",
   "id": "9447f70e-62e1-4046-b3d2-2c81ce6b1ab1",
   "metadata": {},
   "source": [
    "##### To expand on customer segmentation for targeted marketing, let's build a query that:\n",
    "\n",
    "- Calculates Total Purchase Value: Sum of sales for each customer.\n",
    "\n",
    "- Calculates Purchase Frequency: Counts the number of unique orders made by each customer.\n",
    "\n",
    "- Identifies Preferred Product Category: Determines which category each customer spends the most on.\n",
    "\n",
    "We'll also group customers into segments based on their purchasing behaviors. For instance:\n",
    "\n",
    "- High-value customers: Top spenders.\n",
    "- Frequent buyers: Customers who purchase often.\n",
    "- Discount-sensitive customers: Customers who mostly buy products with a high discount."
   ]
  },
  {
   "cell_type": "code",
   "execution_count": 201,
   "id": "ec9818a2-703a-4c93-b0e4-253e9d097f80",
   "metadata": {},
   "outputs": [
    {
     "name": "stdout",
     "output_type": "stream",
     "text": [
      "  CustomerID  Total_Purchase_Value  Purchase_Frequency Preferred_Category  \\\n",
      "0   CG-12520          2.297201e+06                   1          Furniture   \n",
      "\n",
      "               Segment  \n",
      "0  High-Value Customer  \n"
     ]
    }
   ],
   "source": [
    "\n",
    "query = \"\"\"\n",
    "SELECT \n",
    "    Customer_ID AS CustomerID, \n",
    "    SUM(Sales) AS Total_Purchase_Value,\n",
    "    COUNT(DISTINCT \"Order ID\") AS Purchase_Frequency,\n",
    "    (SELECT Category\n",
    "     FROM Superstore AS S2\n",
    "     WHERE S2.Customer_ID = S1.Customer_ID\n",
    "     GROUP BY Category\n",
    "     ORDER BY SUM(Sales) DESC\n",
    "     LIMIT 1) AS Preferred_Category,\n",
    "    -- Define segments\n",
    "    CASE \n",
    "        WHEN SUM(Sales) >= 10000 THEN 'High-Value Customer'\n",
    "        WHEN COUNT(DISTINCT \"Order ID\") >= 10 THEN 'Frequent Buyer'\n",
    "        ELSE 'Occasional Buyer'\n",
    "    END AS Segment\n",
    "FROM \n",
    "    Superstore AS S1\n",
    "GROUP BY \n",
    "    \"Customer ID\"\n",
    "ORDER BY \n",
    "    Total_Purchase_Value DESC\n",
    "LIMIT 5;\n",
    "\"\"\"\n",
    "\n",
    "# Execute the query and load the results into a DataFrame\n",
    "Segmentation1 = pd.read_sql_query(query, conn)\n",
    "\n",
    "# Display the results\n",
    "print(Segmentation1)\n"
   ]
  },
  {
   "cell_type": "markdown",
   "id": "957afe65-9f67-47a3-bae5-83327f039c7f",
   "metadata": {},
   "source": [
    "### Explanation of the Code:\n",
    "\n",
    "- **Customer ID**: Unique identifier for each customer.\n",
    "- **Total Purchase Value**: Total spend calculated by summing up `Sales`.\n",
    "- **Purchase Frequency**: Total number of unique orders for each customer.\n",
    "- **Preferred Category**: The category with the highest sales value for each customer.\n",
    "- **Segment**: Categorizes customers based on their total purchase value and purchase frequency.\n",
    "\n",
    "### Insights for Marketing Strategy\n",
    "\n",
    "1. **High-Value Customers**: Consider VIP offers, personalized recommendations, and early access to new products.\n",
    "2. **Frequent Buyers**: Implement loyalty programs or subscription-based services to keep them engaged.\n",
    "3. **Occasional Buyers**: Use targeted discounts or promotional offers to increase purchase frequency.\n"
   ]
  },
  {
   "cell_type": "markdown",
   "id": "ebc465ae-9edb-4ae2-8f8b-4d3d7be08e09",
   "metadata": {},
   "source": [
    "# 3. **Product Profitability Analysis**\n",
    "\n",
    "   - **Objective**: Analyze the profitability of products and categories.\n",
    "\n",
    "   - **Key Metrics**: Profit margin per product, category-level profitability, and high-profit products.\n",
    "\n",
    "   - **Insights**: Identify which products generate the most profit and focus on promoting or expanding these categories.\n",
    "   -  Low-profit products can be reconsidered for promotional strategies or possible discontinuation."
   ]
  },
  {
   "cell_type": "code",
   "execution_count": 204,
   "id": "cd09bfc9-21a8-4340-b92f-9c33b96eff79",
   "metadata": {},
   "outputs": [
    {
     "name": "stdout",
     "output_type": "stream",
     "text": [
      "                                        Product_Name         Category  \\\n",
      "0              Canon imageCLASS 2200 Advanced Copier       Technology   \n",
      "1  Fellowes PB500 Electric Punch Plastic Comb Bin...  Office Supplies   \n",
      "2               Hewlett Packard LaserJet 3310 Copier       Technology   \n",
      "3                 Canon PC1060 Personal Laser Copier       Technology   \n",
      "4  HP Designjet T520 Inkjet Large Format Printer ...       Technology   \n",
      "5                  Ativa V4110MDD Micro-Cut Shredder       Technology   \n",
      "6   3D Systems Cube Printer, 2nd Generation, Magenta       Technology   \n",
      "7  Plantronics Savi W720 Multi-Device Wireless He...       Technology   \n",
      "8               Ibico EPK-21 Electric Binding System  Office Supplies   \n",
      "9                  Zebra ZM400 Thermal Label Printer       Technology   \n",
      "\n",
      "   Total_Profit  Total_Sales  Profit_Margin      Profit_Category  \n",
      "0    25199.9280    61599.824      40.909091  High-Profit Product  \n",
      "1     7753.0390    27453.384      28.240741  High-Profit Product  \n",
      "2     6983.8836    18839.686      37.070064  High-Profit Product  \n",
      "3     4570.9347    11619.834      39.337349  High-Profit Product  \n",
      "4     4094.9766    18374.895      22.285714  High-Profit Product  \n",
      "5     3772.9461     7699.890      49.000000  High-Profit Product  \n",
      "6     3717.9714    14299.890      26.000000  High-Profit Product  \n",
      "7     3696.2820     9367.290      39.459459  High-Profit Product  \n",
      "8     3345.2823    15875.916      21.071429  High-Profit Product  \n",
      "9     3343.5360     6965.700      48.000000  High-Profit Product  \n"
     ]
    }
   ],
   "source": [
    "# SQL Query for Product Profitability Analysis\n",
    "query = \"\"\"\n",
    "SELECT \n",
    "    Product_Name, \n",
    "    Category, \n",
    "    SUM(Profit) AS Total_Profit,\n",
    "    SUM(Sales) AS Total_Sales,\n",
    "    (SUM(Profit) / SUM(Sales)) * 100 AS Profit_Margin,\n",
    "    CASE \n",
    "        WHEN (SUM(Profit) / SUM(Sales)) * 100 >= 20 THEN 'High-Profit Product'\n",
    "        WHEN (SUM(Profit) / SUM(Sales)) * 100 < 10 THEN 'Low-Profit Product'\n",
    "        ELSE 'Moderate-Profit Product'\n",
    "    END AS Profit_Category\n",
    "FROM \n",
    "    Superstore\n",
    "GROUP BY \n",
    "    Product_Name, Category\n",
    "ORDER BY \n",
    "    Total_Profit DESC;\n",
    "\"\"\"\n",
    "\n",
    "# Execute the query and load results into a DataFrame\n",
    "ProductProfitability = pd.read_sql_query(query, conn)\n",
    "\n",
    "# Display the top results\n",
    "print(ProductProfitability.head(10))\n"
   ]
  },
  {
   "cell_type": "markdown",
   "id": "7afcd918-fcb0-4676-82ad-73646d2e728a",
   "metadata": {},
   "source": [
    "#### Key Components\n",
    "\n",
    "-Total_Profit: The total profit generated by each product, calculated by summing up the Profit column.\n",
    "\n",
    "-Total_Sales: The total sales value for each product.\n",
    "                                  \n",
    "-Profit_Margin: Calculated as (Total_Profit / Total_Sales) * 100, this indicates the profit percentage for each product.\n",
    "\n",
    "Profit_Category: Categorizes products into \"High-Profit\", \"Moderate-Profit\", and \"Low-Profit\" based on their profit margin:\n",
    "\n",
    "*High-Profit Product*: Profit margin >= 20%\n",
    "\n",
    "*Moderate-Profit Product:* Profit margin between 10% and 20%\n",
    "\n",
    "*Low-Profit Product:* Profit margin < 10%\n"
   ]
  },
  {
   "cell_type": "markdown",
   "id": "3ac0c483-fefd-44de-82b9-6e62dd5b0414",
   "metadata": {},
   "source": [
    "### Insights \n",
    "\n",
    "High-Profit Products: By examining the Profit_Category column, you can identify products with a high profit margin that could be prioritized for promotion.\n",
    "\n",
    "Low-Profit Products: Products with low profitability might benefit from promotional strategies to increase sales volume or could be considered for discontinuation if unprofitable in the long term.\n",
    "\n",
    "Category-Level Profitability: Summing the profit values at the category level can highlight which categories contribute the most to the bottom line, helping to decide on focus areas for product development and marketing.\n",
    "."
   ]
  },
  {
   "cell_type": "markdown",
   "id": "46c621ae-2dec-469a-827c-2a84662fe2fb",
   "metadata": {},
   "source": [
    "#  4. **Inventory Optimization**\n",
    "\n",
    "   - **Objective**: Optimize stock levels to meet demand without overstocking.\n",
    "   - \n",
    "   - **Key Metrics**: Stock turnover rate, product demand by season, and stockout occurrences.\n",
    "   - \n",
    "   - **Insights**: Reduce stockouts and excess inventory by understanding which products need higher or lower inventory levels during different times of the year."
   ]
  },
  {
   "cell_type": "markdown",
   "id": "ff306b96-f728-4059-810b-09f5d87b9726",
   "metadata": {},
   "source": [
    "#### a. Calculate Product Turnover Rate:\n",
    "\n",
    "Estimate the demand for each product by calculating total quantities sold over time. Products with high quantities sold are likely high-turnover items needing more frequent stock replenishment."
   ]
  },
  {
   "cell_type": "code",
   "execution_count": 209,
   "id": "92ebd613-e722-4e62-b34c-e0689868db64",
   "metadata": {},
   "outputs": [
    {
     "name": "stdout",
     "output_type": "stream",
     "text": [
      "        Product_ID                                       Product_Name  \\\n",
      "0  OFF-BI-10001524  GBC Premium Transparent Covers with Diagonal L...   \n",
      "1  FUR-CH-10002647         Situations Contoured Folding Chairs, 4/Set   \n",
      "2  FUR-TA-10001095                 Chromcraft Round Conference Tables   \n",
      "3  FUR-CH-10003774    Global Wood Trimmed Manager's Task Chair, Khaki   \n",
      "4  OFF-BI-10004728  Wilson Jones Turn Tabs Binder Tool for Ring Bi...   \n",
      "5  TEC-AC-10003038         Kingston Digital DataTraveler 16GB USB 2.0   \n",
      "6  OFF-ST-10001809                  Fellowes Officeware Wire Shelving   \n",
      "7  FUR-CH-10002880          Global High-Back Leather Tilter, Burgundy   \n",
      "8  FUR-CH-10004287                           SAFCO Arco Folding Chair   \n",
      "9  OFF-PA-10003441                                          Xerox 226   \n",
      "\n",
      "   Total_Quantity_Sold  \n",
      "0                   67  \n",
      "1                   64  \n",
      "2                   61  \n",
      "3                   59  \n",
      "4                   59  \n",
      "5                   57  \n",
      "6                   55  \n",
      "7                   54  \n",
      "8                   53  \n",
      "9                   53  \n"
     ]
    }
   ],
   "source": [
    "query = \"\"\"\n",
    "SELECT \n",
    "    Product_ID, \n",
    "    Product_Name, \n",
    "    SUM(Quantity) AS Total_Quantity_Sold\n",
    "FROM \n",
    "    Superstore\n",
    "GROUP BY \n",
    "    Product_ID, Product_Name\n",
    "ORDER BY \n",
    "    Total_Quantity_Sold DESC;\n",
    "\"\"\"\n",
    "turnover_df = pd.read_sql_query(query, conn)\n",
    "print(turnover_df.head(10))\n"
   ]
  },
  {
   "cell_type": "markdown",
   "id": "45a100c6-ea21-49f7-b9a6-adc3b0215de0",
   "metadata": {},
   "source": [
    "#### b. Identify Seasonal Demand Patterns:\n",
    "\n",
    "Extract month and year from the Order_Date to analyze demand patterns. This helps to understand peak seasons and adjust stock levels accordingly."
   ]
  },
  {
   "cell_type": "code",
   "execution_count": 211,
   "id": "72f5829d-f839-4c3c-87a7-198fd6766406",
   "metadata": {},
   "outputs": [
    {
     "name": "stdout",
     "output_type": "stream",
     "text": [
      "        Product_ID Month  Total_Quantity\n",
      "0  FUR-BO-10000112    09               9\n",
      "1  FUR-BO-10000330    05               2\n",
      "2  FUR-BO-10000330    09               4\n",
      "3  FUR-BO-10000330    11               4\n",
      "4  FUR-BO-10000362    03               3\n",
      "5  FUR-BO-10000362    05               2\n",
      "6  FUR-BO-10000362    06               1\n",
      "7  FUR-BO-10000362    11               6\n",
      "8  FUR-BO-10000362    12               2\n",
      "9  FUR-BO-10000468    01               1\n"
     ]
    }
   ],
   "source": [
    "query = \"\"\"SELECT \n",
    "    Product_ID,\n",
    "    strftime('%m', Order_Date) AS Month,\n",
    "    SUM(Quantity) AS Total_Quantity\n",
    "FROM \n",
    "    Superstore\n",
    "GROUP BY \n",
    "    Product_ID, Month\n",
    "ORDER BY \n",
    "    Product_ID, Month;\n",
    "    \"\"\"\n",
    "demandpatterns = pd.read_sql_query(query, conn)\n",
    "print(demandpatterns.head(10))\n",
    "\n"
   ]
  },
  {
   "cell_type": "markdown",
   "id": "00929403-1744-4b7e-b1be-47c753e43a42",
   "metadata": {},
   "source": [
    "### c. Sales and Profitability Insights:\n",
    "\n",
    "High-profit products with low quantities sold may be prioritized differently from high-turnover, low-profit items. This insight can inform inventory decisions, especially when managing limited stockroom space."
   ]
  },
  {
   "cell_type": "code",
   "execution_count": 213,
   "id": "616bba06-6739-467f-a0ae-265705ee07cc",
   "metadata": {},
   "outputs": [
    {
     "name": "stdout",
     "output_type": "stream",
     "text": [
      "        Product_ID                                       Product_Name  \\\n",
      "0  TEC-CO-10004722              Canon imageCLASS 2200 Advanced Copier   \n",
      "1  OFF-BI-10003527  Fellowes PB500 Electric Punch Plastic Comb Bin...   \n",
      "2  TEC-CO-10001449               Hewlett Packard LaserJet 3310 Copier   \n",
      "3  TEC-CO-10003763                 Canon PC1060 Personal Laser Copier   \n",
      "4  TEC-MA-10001127  HP Designjet T520 Inkjet Large Format Printer ...   \n",
      "5  TEC-MA-10003979                  Ativa V4110MDD Micro-Cut Shredder   \n",
      "6  TEC-MA-10001047   3D Systems Cube Printer, 2nd Generation, Magenta   \n",
      "7  TEC-AC-10002049  Plantronics Savi W720 Multi-Device Wireless He...   \n",
      "8  OFF-BI-10001120               Ibico EPK-21 Electric Binding System   \n",
      "9  TEC-MA-10000045                  Zebra ZM400 Thermal Label Printer   \n",
      "\n",
      "   Total_Sales  Total_Profit  Total_Quantity_Sold  \n",
      "0    61599.824    25199.9280                   20  \n",
      "1    27453.384     7753.0390                   31  \n",
      "2    18839.686     6983.8836                   38  \n",
      "3    11619.834     4570.9347                   19  \n",
      "4    18374.895     4094.9766                   12  \n",
      "5     7699.890     3772.9461                   11  \n",
      "6    14299.890     3717.9714                   11  \n",
      "7     9367.290     3696.2820                   24  \n",
      "8    15875.916     3345.2823                   13  \n",
      "9     6965.700     3343.5360                    6  \n"
     ]
    }
   ],
   "source": [
    "query = \"\"\"\n",
    "SELECT \n",
    "    Product_ID, \n",
    "    Product_Name, \n",
    "    SUM(Sales) AS Total_Sales,\n",
    "    SUM(Profit) AS Total_Profit,\n",
    "    SUM(Quantity) AS Total_Quantity_Sold\n",
    "FROM \n",
    "    Superstore\n",
    "GROUP BY \n",
    "    Product_ID, Product_Name\n",
    "ORDER BY \n",
    "    Total_Profit DESC;\n",
    "\"\"\"\n",
    "profitability_df = pd.read_sql_query(query, conn)\n",
    "print(profitability_df.head(10))\n"
   ]
  },
  {
   "cell_type": "markdown",
   "id": "115e7693-0b07-4b18-89aa-79429f60dca8",
   "metadata": {},
   "source": [
    "# 5. **Customer Lifetime Value (CLV) Estimation**\n",
    "   - **Objective**: Calculate and optimize the long-term value of customers.\n",
    "   - \n",
    "   - **Key Metrics**: Average purchase frequency, average order value, retention rate.\n",
    "   - \n",
    "   - **Insights**: Calculate CLV to determine the worth of each customer and adjust marketing strategies to improve retention and maximize each customer's long-term value."
   ]
  },
  {
   "cell_type": "markdown",
   "id": "dc8d1058-980d-459d-a300-4e79f32c3e19",
   "metadata": {},
   "source": [
    "#### To estimate Customer Lifetime Value (CLV) in SQL, we can break down the calculation by focusing on three main metrics:\n",
    "\n",
    "- Average Purchase Frequency: How often a customer makes a purchase.\n",
    "- Average Order Value: The average value of each order.\n",
    "- Retention Rate: The percentage of customers who make repeat purchases."
   ]
  },
  {
   "cell_type": "code",
   "execution_count": 216,
   "id": "1d3ef20b-a8bf-443c-8384-a7a18c02d4c5",
   "metadata": {},
   "outputs": [
    {
     "name": "stdout",
     "output_type": "stream",
     "text": [
      "    Customer_ID  Customer_Lifetime_Value\n",
      "0      GR-14560                468798.70\n",
      "1      CD-12280                 26037.76\n",
      "2      TC-20980                 19316.83\n",
      "3      NB-18580                 19223.71\n",
      "4      CC-12370                 18529.68\n",
      "..          ...                      ...\n",
      "788    PH-18790                      NaN\n",
      "789    RE-19405                      NaN\n",
      "790    RM-19750                      NaN\n",
      "791    SM-20905                      NaN\n",
      "792    TC-21145                      NaN\n",
      "\n",
      "[793 rows x 2 columns]\n"
     ]
    }
   ],
   "source": [
    "##-- Calculate Average Order Value and Purchase Frequency\n",
    "\n",
    "query = \"\"\" \n",
    " WITH CustomerMetrics AS (\n",
    "    SELECT \n",
    "        Customer_ID,\n",
    "        COUNT(DISTINCT Order_ID) AS Total_Orders,\n",
    "        SUM(Sales) AS Total_Spent,\n",
    "        AVG(Sales) AS Average_Order_Value,\n",
    "        (JULIANDAY(MAX(Order_Date)) - JULIANDAY(MIN(Order_Date))) / 365.0 AS Customer_Lifetime_Years\n",
    "    FROM \n",
    "        Superstore\n",
    "    GROUP BY \n",
    "        Customer_ID\n",
    "),\n",
    "\n",
    "PurchaseFrequency AS (\n",
    "    SELECT \n",
    "        Customer_ID,\n",
    "        Total_Orders / Customer_Lifetime_Years AS Purchase_Frequency,\n",
    "        Average_Order_Value,  -- Include Average_Order_Value here\n",
    "        Total_Spent\n",
    "    FROM \n",
    "        CustomerMetrics\n",
    "),\n",
    "\n",
    "CustomerRetention AS (\n",
    "    SELECT \n",
    "        Customer_ID,\n",
    "        CASE \n",
    "            WHEN Total_Orders > 1 THEN 1\n",
    "            ELSE 0\n",
    "        END AS Is_Retained\n",
    "    FROM \n",
    "        CustomerMetrics\n",
    "),\n",
    "\n",
    "CustomerCLV AS (\n",
    "    SELECT \n",
    "        pf.Customer_ID,\n",
    "        pf.Average_Order_Value,\n",
    "        pf.Purchase_Frequency,\n",
    "        cr.Is_Retained,\n",
    "        (pf.Average_Order_Value * pf.Purchase_Frequency * 5 * cr.Is_Retained) AS Estimated_CLV\n",
    "    FROM \n",
    "        PurchaseFrequency pf\n",
    "    JOIN \n",
    "        CustomerRetention cr ON pf.Customer_ID = cr.Customer_ID\n",
    ")\n",
    "\n",
    "SELECT \n",
    "    Customer_ID,\n",
    "    ROUND(Estimated_CLV, 2) AS Customer_Lifetime_Value\n",
    "FROM \n",
    "    CustomerCLV\n",
    "ORDER BY \n",
    "    Customer_Lifetime_Value DESC;\n",
    "\n",
    "\"\"\"\n",
    "\n",
    "CLV = pd.read_sql_query(query, conn)\n",
    "print(CLV)\n",
    "\n",
    "\n"
   ]
  },
  {
   "cell_type": "markdown",
   "id": "7a31f58b-dcf7-4b33-b3cf-1243f2f1ca06",
   "metadata": {},
   "source": [
    "# 6. **Regional Sales Trends and Seasonality**\n",
    "   - **Objective**: Analyze sales patterns across regions and seasons.\n",
    "   - **Key Metrics**: Monthly sales trends, year-over-year growth, and regional sales distribution.\n",
    "   - **Insights**: Identify seasonal or regional trends to prepare for peak periods and ensure sufficient staffing and stock in high-demand areas.\n"
   ]
  },
  {
   "cell_type": "code",
   "execution_count": 261,
   "id": "76fb7560-b989-4944-8bf5-5d40aac79d58",
   "metadata": {},
   "outputs": [
    {
     "name": "stdout",
     "output_type": "stream",
     "text": [
      "  Sales_Month Region     Sales\n",
      "0     2016-11  South  261.9600\n",
      "1     2016-11  South  731.9400\n",
      "2     2016-06   West   14.6200\n",
      "3     2015-10  South  957.5775\n",
      "4     2015-10  South   22.3680\n",
      "5     2014-06   West   48.8600\n",
      "6     2014-06   West    7.2800\n",
      "7     2014-06   West  907.1520\n",
      "8     2014-06   West   18.5040\n",
      "9     2014-06   West  114.9000\n"
     ]
    }
   ],
   "source": [
    "query = \"\"\" SELECT strftime('%Y-%m', Order_Date) AS Sales_Month, Region, Sales\n",
    "FROM Superstore\n",
    "LIMIT 10;\"\"\"\n",
    "\n",
    "test = pd.read_sql_query(query, conn)\n",
    "print(test)"
   ]
  },
  {
   "cell_type": "code",
   "execution_count": 265,
   "id": "53697964-3a2d-4c4f-84b3-99e27a8ffb5e",
   "metadata": {},
   "outputs": [
    {
     "name": "stdout",
     "output_type": "stream",
     "text": [
      "    Sales_Month   Region  Total_Sales  Total_Quantity  Total_Discount  \\\n",
      "0       2014-01  Central    1539.9060              62            3.30   \n",
      "1       2014-01     East     436.1740              33            3.30   \n",
      "2       2014-01    South    9322.0920             125            0.90   \n",
      "3       2014-01     West    2938.7230              64            2.50   \n",
      "4       2014-02  Central    1233.1740              69            5.40   \n",
      "..          ...      ...          ...             ...             ...   \n",
      "187     2017-11     West   28941.7870             556           14.35   \n",
      "188     2017-12  Central   18883.0708             369           21.72   \n",
      "189     2017-12     East   20084.4160             484           19.50   \n",
      "190     2017-12    South   15209.7370             239            7.25   \n",
      "191     2017-12     West   29652.0950             631           19.25   \n",
      "\n",
      "     Total_Profit  \n",
      "0        118.4902  \n",
      "1        -39.3564  \n",
      "2       2346.6640  \n",
      "3         24.3929  \n",
      "4        294.8067  \n",
      "..            ...  \n",
      "187     3443.2497  \n",
      "188    -1238.3754  \n",
      "189     3225.0994  \n",
      "190     2327.2979  \n",
      "191     4169.3249  \n",
      "\n",
      "[192 rows x 6 columns]\n"
     ]
    }
   ],
   "source": [
    "query = \"\"\" WITH MonthlySales AS (\n",
    "    SELECT\n",
    "        strftime('%Y-%m', Order_Date) AS Sales_Month,\n",
    "        Region,\n",
    "        SUM(Sales) AS Total_Sales,\n",
    "        SUM(Quantity) AS Total_Quantity,\n",
    "        SUM(Discount) AS Total_Discount,\n",
    "        SUM(Profit) AS Total_Profit\n",
    "    FROM\n",
    "        Superstore\n",
    "    GROUP BY\n",
    "        Sales_Month, Region\n",
    ")\n",
    "SELECT * FROM MonthlySales;\"\"\"\n",
    "\n",
    "test2= pd.read_sql_query(query,conn)\n",
    "print(test2)\n"
   ]
  },
  {
   "cell_type": "code",
   "execution_count": 281,
   "id": "0a29116d-7475-42a3-8c53-6c21c115353e",
   "metadata": {},
   "outputs": [
    {
     "name": "stdout",
     "output_type": "stream",
     "text": [
      "   Sales_Year   Region  Yearly_Sales\n",
      "0        2014  Central   103838.1646\n",
      "1        2014     East   128680.4570\n",
      "2        2014    South   103845.8435\n",
      "3        2014     West   147883.0330\n",
      "4        2015  Central   102874.2220\n",
      "5        2015     East   156332.0570\n",
      "6        2015    South    71359.9805\n",
      "7        2015     West   139966.2495\n",
      "8        2016  Central   147429.3760\n",
      "9        2016     East   180685.8220\n",
      "10       2016    South    93610.2235\n",
      "11       2016     West   187480.1765\n",
      "12       2017  Central   147098.1282\n",
      "13       2017     East   213082.9040\n",
      "14       2017    South   122905.8575\n",
      "15       2017     West   250128.3655\n"
     ]
    }
   ],
   "source": [
    "query =  \"\"\" WITH MonthlySales AS (\n",
    "    SELECT\n",
    "        strftime('%Y-%m', Order_Date) AS Sales_Month,\n",
    "        Region,\n",
    "        SUM(Sales) AS Total_Sales,\n",
    "        SUM(Quantity) AS Total_Quantity,\n",
    "        SUM(Discount) AS Total_Discount,\n",
    "        SUM(Profit) AS Total_Profit\n",
    "    FROM\n",
    "        Superstore\n",
    "    GROUP BY\n",
    "        Sales_Month, Region\n",
    "),\n",
    "YearlySales AS (\n",
    "    SELECT\n",
    "        strftime('%Y', Sales_Month || '-01') AS Sales_Year,  -- Extracts the year from Sales_Month\n",
    "        Region,\n",
    "        SUM(Total_Sales) AS Yearly_Sales\n",
    "    FROM\n",
    "        MonthlySales\n",
    "    GROUP BY\n",
    "        Sales_Year, Region\n",
    ")\n",
    "SELECT Sales_Year, Region, Yearly_Sales FROM YearlySales;\"\"\"\n",
    "regionalsaletrend= pd.read_sql_query(query,conn)\n",
    "print(regionalsaletrend)\n"
   ]
  },
  {
   "cell_type": "markdown",
   "id": "66989674-071b-4881-93b8-3e16782dc7f3",
   "metadata": {},
   "source": [
    "# 7. **Sales Forecasting**\n",
    "   - **Objective**: Predict future sales based on historical data.\n",
    "   - **Key Metrics**: Forecast accuracy, sales projections by month, and category-level forecasts.\n",
    "   - **Insights**: Prepare inventory, staffing, and marketing strategies based on projected demand. Forecasting also assists in setting realistic sales goals."
   ]
  },
  {
   "cell_type": "code",
   "execution_count": 283,
   "id": "5f6da3af-8dd8-44cb-b33d-57c2d07e5cde",
   "metadata": {},
   "outputs": [
    {
     "name": "stdout",
     "output_type": "stream",
     "text": [
      "    Sales_Month         Category  Total_Sales  Forecasted_Sales\n",
      "0       2014-01        Furniture    6242.5250       6242.525000\n",
      "1       2014-01  Office Supplies    4851.0800       4851.080000\n",
      "2       2014-01       Technology    3143.2900       3143.290000\n",
      "3       2014-02        Furniture    1839.6580       4041.091500\n",
      "4       2014-02  Office Supplies    1071.7240       2961.402000\n",
      "..          ...              ...          ...               ...\n",
      "139     2017-11  Office Supplies   31472.3370      28801.790667\n",
      "140     2017-11       Technology   49918.7730      36572.346333\n",
      "141     2017-12        Furniture   31407.4668      30116.083333\n",
      "142     2017-12  Office Supplies   30436.9420      28315.490333\n",
      "143     2017-12       Technology   21984.9100      34919.782000\n",
      "\n",
      "[144 rows x 4 columns]\n"
     ]
    }
   ],
   "source": [
    "query = \"\"\" WITH MonthlySales AS (\n",
    "    SELECT\n",
    "        strftime('%Y-%m', Order_Date) AS Sales_Month,\n",
    "        Category,\n",
    "        SUM(Sales) AS Total_Sales\n",
    "    FROM\n",
    "        Superstore\n",
    "    GROUP BY\n",
    "        Sales_Month, Category\n",
    "),\n",
    "MovingAverageForecast AS (\n",
    "    SELECT\n",
    "        Sales_Month,\n",
    "        Category,\n",
    "        Total_Sales,\n",
    "        AVG(Total_Sales) OVER (\n",
    "            PARTITION BY Category\n",
    "            ORDER BY Sales_Month\n",
    "            ROWS BETWEEN 2 PRECEDING AND CURRENT ROW\n",
    "        ) AS Sales_3Month_MovingAvg  -- 3-month moving average for forecasting\n",
    "    FROM\n",
    "        MonthlySales\n",
    ")\n",
    "SELECT \n",
    "    Sales_Month,\n",
    "    Category,\n",
    "    Total_Sales,\n",
    "    Sales_3Month_MovingAvg AS Forecasted_Sales\n",
    "FROM \n",
    "    MovingAverageForecast\n",
    "ORDER BY \n",
    "    Sales_Month, Category;\"\"\"\n",
    "\n",
    "salesforecast = pd.read_sql_query(query,conn)\n",
    "print(salesforecast)\n"
   ]
  },
  {
   "cell_type": "markdown",
   "id": "3b294034-2626-4c46-b6a2-331a344a454b",
   "metadata": {},
   "source": [
    "# 8. **Customer Satisfaction and Return Rate Analysis**\n",
    "   - **Objective**: Analyze return rates and reasons for product returns.\n",
    "   - **Key Metrics**: Return rate by product, category, and customer segment; reasons for returns.\n",
    "   - **Insights**: Identify products with high return rates to improve quality control and minimize returns. Understand customer pain points and make necessary adjustments to product offerings or descriptions."
   ]
  },
  {
   "cell_type": "code",
   "execution_count": 290,
   "id": "cddde43f-c42c-4e28-8c25-f41c99e0265e",
   "metadata": {
    "scrolled": true
   },
   "outputs": [
    {
     "name": "stdout",
     "output_type": "stream",
     "text": [
      "           Product_ID                                       Product_Name  \\\n",
      "0     TEC-AC-10003709                          Maxell 4.7GB DVD-R 5/Pack   \n",
      "1     TEC-AC-10003709                          Maxell 4.7GB DVD-R 5/Pack   \n",
      "2     OFF-AR-10004582                  BIC Brite Liner Grip Highlighters   \n",
      "3     OFF-FA-10002676                                  Colored Push Pins   \n",
      "4     TEC-AC-10003433                          Maxell 4.7GB DVD+R 5/Pack   \n",
      "...               ...                                                ...   \n",
      "3253  TEC-CO-10003763                 Canon PC1060 Personal Laser Copier   \n",
      "3254  FUR-CH-10004287                           SAFCO Arco Folding Chair   \n",
      "3255  OFF-BI-10001359         GBC DocuBind TL300 Electric Binding System   \n",
      "3256  OFF-BI-10003527  Fellowes PB500 Electric Punch Plastic Comb Bin...   \n",
      "3257  OFF-BI-10000545   GBC Ibimaster 500 Manual ProClick Binding System   \n",
      "\n",
      "             Category      Segment  Total_Sales  Total_Quantity  Avg_Discount  \\\n",
      "0          Technology  Home Office        0.990               1      0.000000   \n",
      "1          Technology     Consumer        1.584               2      0.200000   \n",
      "2     Office Supplies  Home Office        1.640               1      0.000000   \n",
      "3     Office Supplies  Home Office        1.810               1      0.000000   \n",
      "4          Technology  Home Office        1.980               2      0.000000   \n",
      "...               ...          ...          ...             ...           ...   \n",
      "3253       Technology     Consumer     6719.904              12      0.200000   \n",
      "3254        Furniture     Consumer     6905.000              33      0.225000   \n",
      "3255  Office Supplies     Consumer    13096.054              26      0.371429   \n",
      "3256  Office Supplies     Consumer    14489.286              17      0.240000   \n",
      "3257  Office Supplies     Consumer    17122.050              38      0.457143   \n",
      "\n",
      "      Total_Profit   Satisfaction_Flag  \n",
      "0           0.4356    Low Sales Volume  \n",
      "1           0.4752    Low Sales Volume  \n",
      "2           0.7380    Low Sales Volume  \n",
      "3           0.6516    Low Sales Volume  \n",
      "4           0.8910    Low Sales Volume  \n",
      "...            ...                 ...  \n",
      "3253     2267.9676  High Discount Rate  \n",
      "3254      433.6340  High Discount Rate  \n",
      "3255      735.5318  High Discount Rate  \n",
      "3256     3685.8710  High Discount Rate  \n",
      "3257     2663.4300  High Discount Rate  \n",
      "\n",
      "[3258 rows x 9 columns]\n"
     ]
    }
   ],
   "source": [
    "query = \"\"\"\n",
    "WITH ProductMetrics AS (\n",
    "    SELECT\n",
    "        Product_ID,\n",
    "        Product_Name,\n",
    "        Category,\n",
    "        Segment,\n",
    "        SUM(Sales) AS Total_Sales,\n",
    "        SUM(Quantity) AS Total_Quantity,\n",
    "        AVG(Discount) AS Avg_Discount,\n",
    "        SUM(Profit) AS Total_Profit\n",
    "    FROM\n",
    "        Superstore\n",
    "    GROUP BY\n",
    "        Product_ID, Product_Name, Category, Segment\n",
    "),\n",
    "\n",
    "PotentialIssues AS (\n",
    "    SELECT\n",
    "        Product_ID,\n",
    "        Product_Name,\n",
    "        Category,\n",
    "        Segment,\n",
    "        Total_Sales,\n",
    "        Total_Quantity,\n",
    "        Avg_Discount,\n",
    "        Total_Profit,\n",
    "        CASE \n",
    "            WHEN Total_Profit < 0 THEN 'Low Profitability'\n",
    "            WHEN Avg_Discount > 0.2 THEN 'High Discount Rate'\n",
    "            WHEN Total_Quantity < 10 THEN 'Low Sales Volume'\n",
    "            ELSE 'No Issues'\n",
    "        END AS Satisfaction_Flag\n",
    "    FROM\n",
    "        ProductMetrics\n",
    ")\n",
    "\n",
    "SELECT \n",
    "    Product_ID,\n",
    "    Product_Name,\n",
    "    Category,\n",
    "    Segment,\n",
    "    Total_Sales,\n",
    "    Total_Quantity,\n",
    "    Avg_Discount,\n",
    "    Total_Profit,\n",
    "    Satisfaction_Flag\n",
    "FROM \n",
    "    PotentialIssues\n",
    "WHERE\n",
    "    Satisfaction_Flag != 'No Issues'\n",
    "ORDER BY \n",
    "    Satisfaction_Flag DESC, Total_Sales ASC;\n",
    "\"\"\"\n",
    "\n",
    "# Running the query\n",
    "satisfaction = pd.read_sql_query(query, conn)\n",
    "print(satisfaction)\n"
   ]
  },
  {
   "cell_type": "markdown",
   "id": "ce503f6a-4ee9-4bae-b40e-7976e67f8525",
   "metadata": {},
   "source": [
    "# Conclusion "
   ]
  },
  {
   "cell_type": "code",
   "execution_count": null,
   "id": "53bfe352-a8c8-4260-9acb-81c437d2c1fb",
   "metadata": {},
   "outputs": [],
   "source": []
  }
 ],
 "metadata": {
  "kernelspec": {
   "display_name": "Python 3 (ipykernel)",
   "language": "python",
   "name": "python3"
  },
  "language_info": {
   "codemirror_mode": {
    "name": "ipython",
    "version": 3
   },
   "file_extension": ".py",
   "mimetype": "text/x-python",
   "name": "python",
   "nbconvert_exporter": "python",
   "pygments_lexer": "ipython3",
   "version": "3.12.7"
  }
 },
 "nbformat": 4,
 "nbformat_minor": 5
}
